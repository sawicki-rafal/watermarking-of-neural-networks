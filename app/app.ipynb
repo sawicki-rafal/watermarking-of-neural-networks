{
 "metadata": {
  "language_info": {
   "codemirror_mode": {
    "name": "ipython",
    "version": 3
   },
   "file_extension": ".py",
   "mimetype": "text/x-python",
   "name": "python",
   "nbconvert_exporter": "python",
   "pygments_lexer": "ipython3",
   "version": "3.8.5-final"
  },
  "orig_nbformat": 2,
  "kernelspec": {
   "name": "python3",
   "display_name": "Python 3.8.5 64-bit (conda)",
   "metadata": {
    "interpreter": {
     "hash": "34d2ce417077281713be2e690c94be632083e0f572e19d5608f06a57df1eea6e"
    }
   }
  }
 },
 "nbformat": 4,
 "nbformat_minor": 2,
 "cells": [
  {
   "cell_type": "code",
   "execution_count": 5,
   "metadata": {},
   "outputs": [],
   "source": [
    "!pip install -Uqq fastbook\n",
    "import fastbook\n",
    "fastbook.setup_book()"
   ]
  },
  {
   "source": [
    "from pathlib import Path\n",
    "from watermark import *\n",
    "from datautils import *\n",
    "from utils import *\n",
    "from fastbook import *\n",
    "from fastai.vision.widgets import *"
   ],
   "cell_type": "code",
   "metadata": {},
   "execution_count": 7,
   "outputs": []
  },
  {
   "cell_type": "code",
   "execution_count": 8,
   "metadata": {},
   "outputs": [
    {
     "output_type": "display_data",
     "data": {
      "text/plain": "FileUpload(value={}, description='Upload')",
      "application/vnd.jupyter.widget-view+json": {
       "version_major": 2,
       "version_minor": 0,
       "model_id": "e742f71f5c5440f8b5e554514192a3e1"
      }
     },
     "metadata": {}
    }
   ],
   "source": [
    "google_id_input = widgets.Text(\n",
    "    value='1iR1DIvl_IfoXOsUBEZt6Aw7d5mEwpdkL',\n",
    "    description='Google file id:',\n",
    "    disabled=False\n",
    ")"
   ]
  },
  {
   "cell_type": "code",
   "execution_count": null,
   "metadata": {},
   "outputs": [],
   "source": [
    "google_id = google_id_input.value\n",
    "data_name = google_id+\".tar.gz\"\n",
    "download_file_from_google_drive(google_id, \"/content/\" + data_name)"
   ]
  },
  {
   "cell_type": "code",
   "execution_count": null,
   "metadata": {},
   "outputs": [],
   "source": [
    "extract_archived_data(data_name)\n",
    "dataset_name = get_dataset_name()"
   ]
  }
 ]
}